{
 "cells": [
  {
   "cell_type": "code",
   "execution_count": 4,
   "metadata": {},
   "outputs": [],
   "source": [
    "import numpy as np\n",
    "import matplotlib.pyplot as plt"
   ]
  },
  {
   "cell_type": "code",
   "execution_count": 3,
   "metadata": {},
   "outputs": [],
   "source": [
    "m = 100\n",
    "X = 6 * np.random.rand(m, 1) - 3\n",
    "y = 0.5 * X**2 + X + 2 + np.random.rand(m, 1)"
   ]
  },
  {
   "cell_type": "code",
   "execution_count": 9,
   "metadata": {},
   "outputs": [
    {
     "data": {
      "image/png": "[encoded data removed]",
      "text/plain": [
       "<Figure size 432x288 with 1 Axes>"
      ]
     },
     "metadata": {
      "needs_background": "light"
     },
     "output_type": "display_data"
    }
   ],
   "source": [
    "plt.plot(X, y, 'b.');"
   ]
  },
  {
   "cell_type": "code",
   "execution_count": 16,
   "metadata": {},
   "outputs": [],
   "source": [
    "from sklearn.preprocessing import PolynomialFeatures\n",
    "\n",
    "poly_features = PolynomialFeatures(degree=2, include_bias=False)\n",
    "X_poly = poly_features.fit_transform(X)"
   ]
  },
  {
   "cell_type": "code",
   "execution_count": 18,
   "metadata": {},
   "outputs": [
    {
     "data": {
      "text/plain": [
       "(array([2.50473884]), array([[0.99593186, 0.50326147]]))"
      ]
     },
     "execution_count": 18,
     "metadata": {},
     "output_type": "execute_result"
    }
   ],
   "source": [
    "from sklearn.linear_model import LinearRegression\n",
    "\n",
    "reg = LinearRegression()\n",
    "reg.fit(X_poly, y)\n",
    "reg.intercept_, reg.coef_"
   ]
  },
  {
   "cell_type": "code",
   "execution_count": 25,
   "metadata": {},
   "outputs": [
    {
     "data": {
      "text/plain": [
       "array([[2.4502869 ],\n",
       "       [0.99749023],\n",
       "       [0.50791148]])"
      ]
     },
     "execution_count": 25,
     "metadata": {},
     "output_type": "execute_result"
    }
   ],
   "source": [
    "class SGDRegressor():\n",
    "    # Class for Linear Regression learning with Mini-batch Gradient Descent \n",
    "    def __init__(self, batch_size=10, n_epochs=50, learning_rate=0.1, random_state=3141):\n",
    "        self.batch_size = batch_size\n",
    "        self.n_epochs = n_epochs\n",
    "        self.mse = None\n",
    "        self.theta = None\n",
    "        self.thetas = None\n",
    "        self.eta = learning_rate\n",
    "        self.random_state = random_state\n",
    "               \n",
    "        \n",
    "    def fit(self, X, y):\n",
    "        np.random.seed(self.random_state)\n",
    "        \n",
    "        n = len(X)\n",
    "        X_b = np.c_[np.ones((len(X), 1)), X]\n",
    "        self.theta = np.random.randn(X.shape[1] + 1, 1)\n",
    "        self.mse = np.zeros(int(np.ceil(n / self.batch_size) * self.n_epochs))\n",
    "        self.thetas = np.zeros((self.mse.size, X_b.shape[1]))\n",
    "                \n",
    "        i = 0\n",
    "        for epoch in range(self.n_epochs):\n",
    "            shuffled_index = np.arange(n)\n",
    "            np.random.shuffle(shuffled_index)\n",
    "            \n",
    "            X_b_s = X_b[shuffled_index]\n",
    "            y_s = y[shuffled_index]\n",
    "            \n",
    "            for index in range(0, n, self.batch_size):\n",
    "                self.mse[i] = np.square(X_b.dot(self.theta) - y).mean()\n",
    "                \n",
    "                Xi = X_b_s[index:index + self.batch_size]\n",
    "                yi = y_s[index:index + self.batch_size]\n",
    "\n",
    "                gradient = 2 / self.batch_size * Xi.T.dot(Xi.dot(self.theta) - yi)\n",
    "\n",
    "                self.theta -= self.eta * gradient\n",
    "                \n",
    "                self.thetas[i] = self.theta.T\n",
    "                i += 1\n",
    "                                    \n",
    "    \n",
    "    def predict(self, X):       \n",
    "        X_b = np.c_[np.ones((len(X), 1)), X]\n",
    "        return X_b.dot(self.theta)\n",
    "        \n",
    "    \n",
    "\n",
    "reg = SGDRegressor(learning_rate=0.01, n_epochs=50, batch_size=10)\n",
    "reg.fit(X_poly, y)\n",
    "reg.theta"
   ]
  }
 ],
 "metadata": {
  "kernelspec": {
   "display_name": "Python 3",
   "language": "python",
   "name": "python3"
  },
  "language_info": {
   "codemirror_mode": {
    "name": "ipython",
    "version": 3
   },
   "file_extension": ".py",
   "mimetype": "text/x-python",
   "name": "python",
   "nbconvert_exporter": "python",
   "pygments_lexer": "ipython3",
   "version": "3.8.3"
  }
 },
 "nbformat": 4,
 "nbformat_minor": 4
}
